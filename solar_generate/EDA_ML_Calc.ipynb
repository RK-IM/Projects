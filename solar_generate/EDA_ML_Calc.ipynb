{
 "cells": [
  {
   "cell_type": "code",
   "execution_count": 2,
   "metadata": {},
   "outputs": [
    {
     "name": "stderr",
     "output_type": "stream",
     "text": [
      "/home/rg_im/anaconda3/envs/proj3_release/lib/python3.8/site-packages/tqdm/auto.py:22: TqdmWarning: IProgress not found. Please update jupyter and ipywidgets. See https://ipywidgets.readthedocs.io/en/stable/user_install.html\n",
      "  from .autonotebook import tqdm as notebook_tqdm\n"
     ]
    }
   ],
   "source": [
    "import pickle\n",
    "\n",
    "import numpy as np\n",
    "import pandas as pd\n",
    "import matplotlib.pyplot as plt\n",
    "import seaborn as sns\n",
    "\n",
    "import psycopg2\n",
    "\n",
    "from sklearn.ensemble import RandomForestRegressor\n",
    "from sklearn.metrics import r2_score\n",
    "from skforecast.ForecasterAutoreg import ForecasterAutoreg"
   ]
  },
  {
   "cell_type": "markdown",
   "metadata": {},
   "source": [
    "# Load Dataset from Database(PostgreSQL)"
   ]
  },
  {
   "cell_type": "code",
   "execution_count": 3,
   "metadata": {},
   "outputs": [],
   "source": [
    "# run after docker-compose\n",
    "conn = psycopg2.connect(\n",
    "    dbname='busan_climate', \n",
    "    user='postgres', \n",
    "    password='1234',\n",
    "    host='localhost'\n",
    ")\n",
    "\n",
    "cur = conn.cursor()"
   ]
  },
  {
   "cell_type": "code",
   "execution_count": 4,
   "metadata": {},
   "outputs": [],
   "source": [
    "cur.execute(\"SELECT * FROM solar\")\n",
    "datas = cur.fetchall()\n",
    "col_names = [desc[0] for desc in cur.description]\n",
    "\n",
    "df = pd.DataFrame(datas, columns=col_names)"
   ]
  },
  {
   "cell_type": "code",
   "execution_count": 5,
   "metadata": {},
   "outputs": [],
   "source": [
    "cur.close()\n",
    "conn.close()"
   ]
  },
  {
   "cell_type": "markdown",
   "metadata": {},
   "source": [
    "# EDA\n",
    "- `sumsshr`: 합계 일조 시간 (hr)\n",
    "- `sumgsr`: 합계 일사량 (MJ/m^2)\n",
    "- `hr1maxicsr`: 1 시간 최다 일사량 (MJ/m^2)\n",
    "- `avgta`: 평균 기온 (C)\n",
    "- `avgpa`: 평균 현지기압 (hPa)\n",
    "- `avgps`: 평균 해면기압 (hPa)"
   ]
  },
  {
   "cell_type": "code",
   "execution_count": 6,
   "metadata": {},
   "outputs": [
    {
     "data": {
      "text/html": [
       "<div>\n",
       "<style scoped>\n",
       "    .dataframe tbody tr th:only-of-type {\n",
       "        vertical-align: middle;\n",
       "    }\n",
       "\n",
       "    .dataframe tbody tr th {\n",
       "        vertical-align: top;\n",
       "    }\n",
       "\n",
       "    .dataframe thead th {\n",
       "        text-align: right;\n",
       "    }\n",
       "</style>\n",
       "<table border=\"1\" class=\"dataframe\">\n",
       "  <thead>\n",
       "    <tr style=\"text-align: right;\">\n",
       "      <th></th>\n",
       "      <th>id</th>\n",
       "      <th>date</th>\n",
       "      <th>sumsshr</th>\n",
       "      <th>sumgsr</th>\n",
       "      <th>hr1maxicsr</th>\n",
       "      <th>avgta</th>\n",
       "      <th>avgpa</th>\n",
       "      <th>avgps</th>\n",
       "    </tr>\n",
       "  </thead>\n",
       "  <tbody>\n",
       "    <tr>\n",
       "      <th>0</th>\n",
       "      <td>0</td>\n",
       "      <td>2017-01-01</td>\n",
       "      <td>9.2</td>\n",
       "      <td>10.63</td>\n",
       "      <td>1.81</td>\n",
       "      <td>6.5</td>\n",
       "      <td>1018.6</td>\n",
       "      <td>1027.3</td>\n",
       "    </tr>\n",
       "    <tr>\n",
       "      <th>1</th>\n",
       "      <td>1</td>\n",
       "      <td>2017-01-02</td>\n",
       "      <td>8.9</td>\n",
       "      <td>10.12</td>\n",
       "      <td>1.71</td>\n",
       "      <td>9.5</td>\n",
       "      <td>1013.0</td>\n",
       "      <td>1021.5</td>\n",
       "    </tr>\n",
       "    <tr>\n",
       "      <th>2</th>\n",
       "      <td>2</td>\n",
       "      <td>2017-01-03</td>\n",
       "      <td>9.1</td>\n",
       "      <td>11.13</td>\n",
       "      <td>1.80</td>\n",
       "      <td>7.9</td>\n",
       "      <td>1013.8</td>\n",
       "      <td>1022.4</td>\n",
       "    </tr>\n",
       "    <tr>\n",
       "      <th>3</th>\n",
       "      <td>3</td>\n",
       "      <td>2017-01-04</td>\n",
       "      <td>8.0</td>\n",
       "      <td>8.79</td>\n",
       "      <td>1.72</td>\n",
       "      <td>8.1</td>\n",
       "      <td>1013.9</td>\n",
       "      <td>1022.4</td>\n",
       "    </tr>\n",
       "    <tr>\n",
       "      <th>4</th>\n",
       "      <td>4</td>\n",
       "      <td>2017-01-05</td>\n",
       "      <td>2.6</td>\n",
       "      <td>5.33</td>\n",
       "      <td>1.43</td>\n",
       "      <td>7.8</td>\n",
       "      <td>1017.5</td>\n",
       "      <td>1026.1</td>\n",
       "    </tr>\n",
       "  </tbody>\n",
       "</table>\n",
       "</div>"
      ],
      "text/plain": [
       "   id        date  sumsshr  sumgsr  hr1maxicsr  avgta   avgpa   avgps\n",
       "0   0  2017-01-01      9.2   10.63        1.81    6.5  1018.6  1027.3\n",
       "1   1  2017-01-02      8.9   10.12        1.71    9.5  1013.0  1021.5\n",
       "2   2  2017-01-03      9.1   11.13        1.80    7.9  1013.8  1022.4\n",
       "3   3  2017-01-04      8.0    8.79        1.72    8.1  1013.9  1022.4\n",
       "4   4  2017-01-05      2.6    5.33        1.43    7.8  1017.5  1026.1"
      ]
     },
     "execution_count": 6,
     "metadata": {},
     "output_type": "execute_result"
    }
   ],
   "source": [
    "df.head()"
   ]
  },
  {
   "cell_type": "code",
   "execution_count": 6,
   "metadata": {},
   "outputs": [],
   "source": [
    "df = df.drop('id', axis=1)\n",
    "\n",
    "df['date'] = pd.to_datetime(df['date'])\n",
    "df['year'] = df['date'].dt.year\n",
    "df['month'] = df['date'].dt.month\n",
    "df['day'] = df['date'].dt.day"
   ]
  },
  {
   "cell_type": "markdown",
   "metadata": {},
   "source": [
    "## Missing datas"
   ]
  },
  {
   "cell_type": "code",
   "execution_count": 32,
   "metadata": {},
   "outputs": [],
   "source": [
    "missing_sumgsr = df.groupby(['year', 'month'])[['sumgsr', 'day']].count().reset_index()"
   ]
  },
  {
   "cell_type": "code",
   "execution_count": 36,
   "metadata": {},
   "outputs": [],
   "source": [
    "missing_sumgsr['flag'] = missing_sumgsr.apply(\n",
    "    lambda x: 1 if x['sumgsr'] != x['day'] else 0, axis=1)"
   ]
  },
  {
   "cell_type": "code",
   "execution_count": 38,
   "metadata": {},
   "outputs": [
    {
     "data": {
      "text/html": [
       "<div>\n",
       "<style scoped>\n",
       "    .dataframe tbody tr th:only-of-type {\n",
       "        vertical-align: middle;\n",
       "    }\n",
       "\n",
       "    .dataframe tbody tr th {\n",
       "        vertical-align: top;\n",
       "    }\n",
       "\n",
       "    .dataframe thead th {\n",
       "        text-align: right;\n",
       "    }\n",
       "</style>\n",
       "<table border=\"1\" class=\"dataframe\">\n",
       "  <thead>\n",
       "    <tr style=\"text-align: right;\">\n",
       "      <th></th>\n",
       "      <th>year</th>\n",
       "      <th>month</th>\n",
       "      <th>sumgsr</th>\n",
       "      <th>day</th>\n",
       "      <th>flag</th>\n",
       "    </tr>\n",
       "  </thead>\n",
       "  <tbody>\n",
       "    <tr>\n",
       "      <th>16</th>\n",
       "      <td>2018</td>\n",
       "      <td>5</td>\n",
       "      <td>18</td>\n",
       "      <td>31</td>\n",
       "      <td>1</td>\n",
       "    </tr>\n",
       "    <tr>\n",
       "      <th>18</th>\n",
       "      <td>2018</td>\n",
       "      <td>7</td>\n",
       "      <td>19</td>\n",
       "      <td>31</td>\n",
       "      <td>1</td>\n",
       "    </tr>\n",
       "    <tr>\n",
       "      <th>19</th>\n",
       "      <td>2018</td>\n",
       "      <td>8</td>\n",
       "      <td>0</td>\n",
       "      <td>31</td>\n",
       "      <td>1</td>\n",
       "    </tr>\n",
       "    <tr>\n",
       "      <th>20</th>\n",
       "      <td>2018</td>\n",
       "      <td>9</td>\n",
       "      <td>15</td>\n",
       "      <td>30</td>\n",
       "      <td>1</td>\n",
       "    </tr>\n",
       "    <tr>\n",
       "      <th>37</th>\n",
       "      <td>2020</td>\n",
       "      <td>2</td>\n",
       "      <td>28</td>\n",
       "      <td>29</td>\n",
       "      <td>1</td>\n",
       "    </tr>\n",
       "    <tr>\n",
       "      <th>38</th>\n",
       "      <td>2020</td>\n",
       "      <td>3</td>\n",
       "      <td>30</td>\n",
       "      <td>31</td>\n",
       "      <td>1</td>\n",
       "    </tr>\n",
       "    <tr>\n",
       "      <th>48</th>\n",
       "      <td>2021</td>\n",
       "      <td>1</td>\n",
       "      <td>30</td>\n",
       "      <td>31</td>\n",
       "      <td>1</td>\n",
       "    </tr>\n",
       "    <tr>\n",
       "      <th>56</th>\n",
       "      <td>2021</td>\n",
       "      <td>9</td>\n",
       "      <td>29</td>\n",
       "      <td>30</td>\n",
       "      <td>1</td>\n",
       "    </tr>\n",
       "  </tbody>\n",
       "</table>\n",
       "</div>"
      ],
      "text/plain": [
       "    year  month  sumgsr  day  flag\n",
       "16  2018      5      18   31     1\n",
       "18  2018      7      19   31     1\n",
       "19  2018      8       0   31     1\n",
       "20  2018      9      15   30     1\n",
       "37  2020      2      28   29     1\n",
       "38  2020      3      30   31     1\n",
       "48  2021      1      30   31     1\n",
       "56  2021      9      29   30     1"
      ]
     },
     "execution_count": 38,
     "metadata": {},
     "output_type": "execute_result"
    }
   ],
   "source": [
    "missing_sumgsr.loc[missing_sumgsr['flag']==1]"
   ]
  },
  {
   "cell_type": "code",
   "execution_count": 56,
   "metadata": {},
   "outputs": [
    {
     "name": "stderr",
     "output_type": "stream",
     "text": [
      "/tmp/ipykernel_12141/3431096511.py:1: FutureWarning: DataFrame.mean and DataFrame.median with numeric_only=None will include datetime64 and datetime64tz columns in a future version.\n",
      "  df_clean = df.groupby(['year', 'month']).apply(lambda x: x.fillna(x.mean()))\n",
      "/tmp/ipykernel_12141/3431096511.py:1: FutureWarning: Not prepending group keys to the result index of transform-like apply. In the future, the group keys will be included in the index, regardless of whether the applied function returns a like-indexed object.\n",
      "To preserve the previous behavior, use\n",
      "\n",
      "\t>>> .groupby(..., group_keys=False)\n",
      "\n",
      "To adopt the future behavior and silence this warning, use \n",
      "\n",
      "\t>>> .groupby(..., group_keys=True)\n",
      "  df_clean = df.groupby(['year', 'month']).apply(lambda x: x.fillna(x.mean()))\n"
     ]
    }
   ],
   "source": [
    "df_clean = df.groupby(['year', 'month']).apply(lambda x: x.fillna(x.mean()))\n",
    "df_clean = df_clean.groupby(['month']).apply(lambda x: x.fillna(x.mean()))"
   ]
  },
  {
   "cell_type": "code",
   "execution_count": 103,
   "metadata": {},
   "outputs": [],
   "source": [
    "monthly = df_clean.groupby(['year', 'month'])['sumgsr'].sum().reset_index()"
   ]
  },
  {
   "cell_type": "code",
   "execution_count": 113,
   "metadata": {},
   "outputs": [],
   "source": [
    "monthly['date'] = pd.to_datetime(monthly['year'].map(str)\n",
    "                                 + monthly['month'].map(str).str.zfill(2),\n",
    "                                 format=\"%Y%m\")\n",
    "                                 \n",
    "monthly = monthly.set_index('date')\n",
    "monthly = monthly.asfreq('MS')"
   ]
  },
  {
   "cell_type": "markdown",
   "metadata": {},
   "source": [
    "# Model"
   ]
  },
  {
   "cell_type": "code",
   "execution_count": 186,
   "metadata": {},
   "outputs": [
    {
     "data": {
      "text/plain": [
       "================= \n",
       "ForecasterAutoreg \n",
       "================= \n",
       "Regressor: RandomForestRegressor() \n",
       "Lags: [ 1  2  3  4  5  6  7  8  9 10 11 12] \n",
       "Transformer for y: None \n",
       "Transformer for exog: None \n",
       "Window size: 12 \n",
       "Included exogenous: False \n",
       "Type of exogenous variable: None \n",
       "Exogenous variables names: None \n",
       "Training range: [Timestamp('2019-01-01 00:00:00'), Timestamp('2020-12-01 00:00:00')] \n",
       "Training index type: DatetimeIndex \n",
       "Training index frequency: MS \n",
       "Regressor parameters: {'bootstrap': True, 'ccp_alpha': 0.0, 'criterion': 'squared_error', 'max_depth': None, 'max_features': 1.0, 'max_leaf_nodes': None, 'max_samples': None, 'min_impurity_decrease': 0.0, 'min_samples_leaf': 1, 'min_samples_split': 2, 'min_weight_fraction_leaf': 0.0, 'n_estimators': 100, 'n_jobs': None, 'oob_score': False, 'random_state': None, 'verbose': 0, 'warm_start': False} \n",
       "Creation date: 2022-11-01 01:30:56 \n",
       "Last fit date: 2022-11-01 01:30:56 \n",
       "Skforecast version: 0.5.1 \n",
       "Python version: 3.8.13 "
      ]
     },
     "execution_count": 186,
     "metadata": {},
     "output_type": "execute_result"
    }
   ],
   "source": [
    "forecaster = ForecasterAutoreg(\n",
    "    regressor = RandomForestRegressor(),\n",
    "    lags=12\n",
    ")\n",
    "\n",
    "forecaster.fit(y=monthly.query(\"year<2021 and year>2018\")['sumgsr'])\n",
    "forecaster"
   ]
  },
  {
   "cell_type": "code",
   "execution_count": 187,
   "metadata": {},
   "outputs": [
    {
     "data": {
      "image/png": "[encoded data removed]",
      "text/plain": [
       "<Figure size 640x480 with 1 Axes>"
      ]
     },
     "metadata": {},
     "output_type": "display_data"
    }
   ],
   "source": [
    "forecaster.predict(steps=12).plot(label='Predict')\n",
    "monthly.query(\"year==2021\")['sumgsr'].plot(label='Test')\n",
    "plt.legend()\n",
    "plt.show()"
   ]
  },
  {
   "cell_type": "code",
   "execution_count": 188,
   "metadata": {},
   "outputs": [
    {
     "data": {
      "text/plain": [
       "0.7345621519426817"
      ]
     },
     "execution_count": 188,
     "metadata": {},
     "output_type": "execute_result"
    }
   ],
   "source": [
    "pred = forecaster.predict(steps=12)\n",
    "y_test = monthly.query(\"year==2021\")['sumgsr']\n",
    "\n",
    "r2_score(y_test, pred)"
   ]
  },
  {
   "cell_type": "markdown",
   "metadata": {},
   "source": [
    "# Calc Power Production\n",
    "- sumGsr (MJ/m^2)\n",
    "- Wh = J / 3600\n",
    "- Daily Power Production = (sumGsr\\ x 10^6) / 3600 x (Area) x (efficiency - other causes)"
   ]
  },
  {
   "cell_type": "code",
   "execution_count": 190,
   "metadata": {},
   "outputs": [],
   "source": [
    "# with open('model.pkl', 'wb') as pickle_file:\n",
    "#     pickle.dump(forecaster, pickle_file)"
   ]
  },
  {
   "cell_type": "code",
   "execution_count": 2,
   "metadata": {},
   "outputs": [],
   "source": [
    "import pickle"
   ]
  },
  {
   "cell_type": "code",
   "execution_count": 3,
   "metadata": {},
   "outputs": [],
   "source": [
    "with open('model.pkl', 'rb') as pickle_file:\n",
    "    model = pickle.load(pickle_file)\n",
    "\n",
    "month = 12\n",
    "generate = model.predict(steps=month)\n",
    "generate_power = generate/3600*1000*20*0.15"
   ]
  },
  {
   "cell_type": "code",
   "execution_count": 13,
   "metadata": {},
   "outputs": [],
   "source": [
    "def calc_payment(power_use):\n",
    "    if month in [7, 8]:\n",
    "        if power_use <= 300:\n",
    "            payment = 910 + power_use*100.6\n",
    "        elif power_use <= 450:\n",
    "            payment = 1600 + 300*100.6 + (power_use-300)*195.2\n",
    "        elif power_use <= 1000:\n",
    "            payment = 7300 + 300*100.6 + 150*195.2 + (power_use-450)*287.9\n",
    "        else:\n",
    "            payment = 7300 + 300*100.6 + 150*195.2 + 550*287.9 + (power_use-1000)*716.8\n",
    "\n",
    "    else:\n",
    "        if power_use <= 200:\n",
    "            payment = 910 + power_use*100.6\n",
    "        elif power_use <= 400:\n",
    "            payment = 1600 + 200*100.6 + (power_use-200)*195.2\n",
    "        else:\n",
    "            if month in [1, 2, 12]:\n",
    "                if power_use <= 1000:\n",
    "                    payment = 7300 + 200*100.6 + 200*195.2 + (power_use-400)*287.9\n",
    "                else:\n",
    "                    payment = 7300 + 200*100.6 + 200*195.2 + 600*287.9 + (power_use-1000)*716.8\n",
    "            else:\n",
    "                payment = 7300 + 200*100.6 + 200*195.2 + (power_use-400)*287.9\n",
    "\n",
    "    total_payment = ((payment + power_use*7.30) * 1.137) // 10 * 10\n",
    "\n",
    "    return total_payment"
   ]
  },
  {
   "cell_type": "code",
   "execution_count": 14,
   "metadata": {},
   "outputs": [
    {
     "name": "stdout",
     "output_type": "stream",
     "text": [
      "Saved money: 213760.0\n"
     ]
    }
   ],
   "source": [
    "current_power_use = int(input())\n",
    "reduced_power_use = current_power_use - generate_power[month-1]\n",
    "\n",
    "current_payment = calc_payment(current_power_use)\n",
    "reduced_payment = calc_payment(reduced_power_use)\n",
    "\n",
    "if reduced_power_use <= 1150:\n",
    "    saved_money = 1150\n",
    "else:\n",
    "    saved_money = current_payment - reduced_payment\n",
    "\n",
    "print(f\"Saved money: {saved_money}\")"
   ]
  },
  {
   "cell_type": "markdown",
   "metadata": {},
   "source": [
    "정부 지원금: 860,000/kW -> 3kW: 258만\n",
    "사업비 상한액: 516만\n",
    "\n",
    "※산업통상자원부 공고 제 2022-369호"
   ]
  }
 ],
 "metadata": {
  "kernelspec": {
   "display_name": "Python 3.8.13 ('proj3_release')",
   "language": "python",
   "name": "python3"
  },
  "language_info": {
   "codemirror_mode": {
    "name": "ipython",
    "version": 3
   },
   "file_extension": ".py",
   "mimetype": "text/x-python",
   "name": "python",
   "nbconvert_exporter": "python",
   "pygments_lexer": "ipython3",
   "version": "3.8.13"
  },
  "orig_nbformat": 4,
  "vscode": {
   "interpreter": {
    "hash": "635684b3f5f0663feaac8d21af35c94f178a4510da80ecc9136169ce20c5861d"
   }
  }
 },
 "nbformat": 4,
 "nbformat_minor": 2
}
