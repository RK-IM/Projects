{
 "cells": [
  {
   "cell_type": "markdown",
   "id": "e6accfc6-2a7a-4156-a50f-d7e8a0910cfe",
   "metadata": {},
   "source": [
    "# Questions\n",
    "1. 지역에 따라서 선호하는 게임 장르가 다를까\n",
    "2. 연도별 게임의 트렌드가 있을까 \n",
    "3. 출고량이 높은 게임에 대한 분석 및 시각화 프로세스\n",
    "\n",
    "- <span style=\"font-size:18px; font-style:italic; font-weight:bold\">Goal: 다음 분기에 어떤 게임을 설계해야 할까</span>\n",
    "<br>"
   ]
  },
  {
   "cell_type": "markdown",
   "id": "1b66bde7-6ea7-4616-8f6f-18b98e37a6f3",
   "metadata": {},
   "source": [
    "# Import and Load"
   ]
  },
  {
   "cell_type": "code",
   "execution_count": 1,
   "id": "a329d573-4b2d-4ea0-a47d-3b8a85debcff",
   "metadata": {},
   "outputs": [],
   "source": [
    "from IPython.display import display\n",
    "import numpy as np\n",
    "import pandas as pd\n",
    "import matplotlib.pyplot as plt\n",
    "import seaborn as sns\n",
    "\n",
    "import warnings\n",
    "warnings.filterwarnings('ignore')"
   ]
  },
  {
   "cell_type": "code",
   "execution_count": 2,
   "id": "47c5332b-164d-4679-9d9f-55c6ce53bb42",
   "metadata": {},
   "outputs": [],
   "source": [
    "df = pd.read_csv('vgames2.csv', index_col=0)"
   ]
  },
  {
   "cell_type": "code",
   "execution_count": 3,
   "id": "7d86dbc8-b0c8-413d-aabc-fc0cbb8981a4",
   "metadata": {},
   "outputs": [],
   "source": [
    "# Metacritic Scores \n",
    "# https://www.kaggle.com/datasets/rush4ratio/video-game-sales-with-ratings\n",
    "scores = pd.read_csv('vgsales_score.csv')"
   ]
  },
  {
   "cell_type": "markdown",
   "id": "60096980-b0b2-4338-929e-a621f9140d16",
   "metadata": {},
   "source": [
    "# Quick view"
   ]
  },
  {
   "cell_type": "markdown",
   "id": "943c313d-3e79-464c-862f-049c5106e914",
   "metadata": {},
   "source": [
    "## Main Dataset"
   ]
  },
  {
   "cell_type": "code",
   "execution_count": 4,
   "id": "293860b6-e6fd-42ae-8870-01c10f1c0222",
   "metadata": {},
   "outputs": [
    {
     "name": "stdout",
     "output_type": "stream",
     "text": [
      "<class 'pandas.core.frame.DataFrame'>\n",
      "Int64Index: 16598 entries, 1 to 16598\n",
      "Data columns (total 9 columns):\n",
      " #   Column       Non-Null Count  Dtype  \n",
      "---  ------       --------------  -----  \n",
      " 0   Name         16598 non-null  object \n",
      " 1   Platform     16598 non-null  object \n",
      " 2   Year         16327 non-null  float64\n",
      " 3   Genre        16548 non-null  object \n",
      " 4   Publisher    16540 non-null  object \n",
      " 5   NA_Sales     16598 non-null  object \n",
      " 6   EU_Sales     16598 non-null  object \n",
      " 7   JP_Sales     16598 non-null  object \n",
      " 8   Other_Sales  16598 non-null  object \n",
      "dtypes: float64(1), object(8)\n",
      "memory usage: 1.3+ MB\n"
     ]
    }
   ],
   "source": [
    "df.info()"
   ]
  },
  {
   "cell_type": "markdown",
   "id": "2891ca7e-a142-4b2a-b701-e0a78c9191c5",
   "metadata": {},
   "source": [
    "### Metadata"
   ]
  },
  {
   "cell_type": "markdown",
   "id": "047e22d6-3c15-4a1f-92dd-fe2e6ef4cdd3",
   "metadata": {},
   "source": [
    "- `Name` : 게임의 이름입니다.\n",
    "- `Platform` : 게임이 지원되는 플랫폼의 이름입니다. (i.e. PC, PS4, etc.)\n",
    "- `Year` : 게임이 출시된 연도입니다.\n",
    "- `Genre` : 게임의 장르입니다.\n",
    "- `Publisher` : 게임을 제작한 회사입니다.\n",
    "- `NA_Sales` : 북미지역에서의 출고량입니다. (in millions)\n",
    "- `EU_Sales` : 유럽지역에서의 출고량입니다. (in millions)\n",
    "- `JP_Sales` : 일본지역에서의 출고량입니다. (in millions)\n",
    "- `Other_Sales` : 기타지역에서의 출고량입니다.(in millions)"
   ]
  },
  {
   "cell_type": "code",
   "execution_count": 5,
   "id": "ab4adf2d-f3f0-4e1b-bea1-a7f51fc3f044",
   "metadata": {},
   "outputs": [
    {
     "data": {
      "text/html": [
       "<div>\n",
       "<style scoped>\n",
       "    .dataframe tbody tr th:only-of-type {\n",
       "        vertical-align: middle;\n",
       "    }\n",
       "\n",
       "    .dataframe tbody tr th {\n",
       "        vertical-align: top;\n",
       "    }\n",
       "\n",
       "    .dataframe thead th {\n",
       "        text-align: right;\n",
       "    }\n",
       "</style>\n",
       "<table border=\"1\" class=\"dataframe\">\n",
       "  <thead>\n",
       "    <tr style=\"text-align: right;\">\n",
       "      <th></th>\n",
       "      <th>Name</th>\n",
       "      <th>Platform</th>\n",
       "      <th>Year</th>\n",
       "      <th>Genre</th>\n",
       "      <th>Publisher</th>\n",
       "      <th>NA_Sales</th>\n",
       "      <th>EU_Sales</th>\n",
       "      <th>JP_Sales</th>\n",
       "      <th>Other_Sales</th>\n",
       "    </tr>\n",
       "  </thead>\n",
       "  <tbody>\n",
       "    <tr>\n",
       "      <th>1</th>\n",
       "      <td>Candace Kane's Candy Factory</td>\n",
       "      <td>DS</td>\n",
       "      <td>2008.0</td>\n",
       "      <td>Action</td>\n",
       "      <td>Destineer</td>\n",
       "      <td>0.04</td>\n",
       "      <td>0</td>\n",
       "      <td>0</td>\n",
       "      <td>0</td>\n",
       "    </tr>\n",
       "    <tr>\n",
       "      <th>2</th>\n",
       "      <td>The Munchables</td>\n",
       "      <td>Wii</td>\n",
       "      <td>2009.0</td>\n",
       "      <td>Action</td>\n",
       "      <td>Namco Bandai Games</td>\n",
       "      <td>0.17</td>\n",
       "      <td>0</td>\n",
       "      <td>0</td>\n",
       "      <td>0.01</td>\n",
       "    </tr>\n",
       "    <tr>\n",
       "      <th>3</th>\n",
       "      <td>Otome wa Oanesama Boku ni Koi Shiteru Portable</td>\n",
       "      <td>PSP</td>\n",
       "      <td>2010.0</td>\n",
       "      <td>Adventure</td>\n",
       "      <td>Alchemist</td>\n",
       "      <td>0</td>\n",
       "      <td>0</td>\n",
       "      <td>0.02</td>\n",
       "      <td>0</td>\n",
       "    </tr>\n",
       "    <tr>\n",
       "      <th>4</th>\n",
       "      <td>Deal or No Deal: Special Edition</td>\n",
       "      <td>DS</td>\n",
       "      <td>2010.0</td>\n",
       "      <td>Misc</td>\n",
       "      <td>Zoo Games</td>\n",
       "      <td>0.04</td>\n",
       "      <td>0</td>\n",
       "      <td>0</td>\n",
       "      <td>0</td>\n",
       "    </tr>\n",
       "    <tr>\n",
       "      <th>5</th>\n",
       "      <td>Ben 10 Ultimate Alien: Cosmic Destruction</td>\n",
       "      <td>PS3</td>\n",
       "      <td>2010.0</td>\n",
       "      <td>Platform</td>\n",
       "      <td>D3Publisher</td>\n",
       "      <td>0.12</td>\n",
       "      <td>0.09</td>\n",
       "      <td>0</td>\n",
       "      <td>0.04</td>\n",
       "    </tr>\n",
       "  </tbody>\n",
       "</table>\n",
       "</div>"
      ],
      "text/plain": [
       "                                             Name Platform    Year      Genre  \\\n",
       "1                    Candace Kane's Candy Factory       DS  2008.0     Action   \n",
       "2                                  The Munchables      Wii  2009.0     Action   \n",
       "3  Otome wa Oanesama Boku ni Koi Shiteru Portable      PSP  2010.0  Adventure   \n",
       "4                Deal or No Deal: Special Edition       DS  2010.0       Misc   \n",
       "5       Ben 10 Ultimate Alien: Cosmic Destruction      PS3  2010.0   Platform   \n",
       "\n",
       "            Publisher NA_Sales EU_Sales JP_Sales Other_Sales  \n",
       "1           Destineer     0.04        0        0           0  \n",
       "2  Namco Bandai Games     0.17        0        0        0.01  \n",
       "3           Alchemist        0        0     0.02           0  \n",
       "4           Zoo Games     0.04        0        0           0  \n",
       "5         D3Publisher     0.12     0.09        0        0.04  "
      ]
     },
     "metadata": {},
     "output_type": "display_data"
    },
    {
     "data": {
      "text/plain": [
       "(16598, 9)"
      ]
     },
     "execution_count": 5,
     "metadata": {},
     "output_type": "execute_result"
    }
   ],
   "source": [
    "display(df.head())\n",
    "df.shape"
   ]
  },
  {
   "cell_type": "code",
   "execution_count": 6,
   "id": "22bbc3a6-1e19-447f-a344-e206b54e67d5",
   "metadata": {},
   "outputs": [
    {
     "data": {
      "text/plain": [
       "Name             0\n",
       "Platform         0\n",
       "Year           271\n",
       "Genre           50\n",
       "Publisher       58\n",
       "NA_Sales         0\n",
       "EU_Sales         0\n",
       "JP_Sales         0\n",
       "Other_Sales      0\n",
       "dtype: int64"
      ]
     },
     "execution_count": 6,
     "metadata": {},
     "output_type": "execute_result"
    }
   ],
   "source": [
    "df.isna().sum()"
   ]
  },
  {
   "cell_type": "markdown",
   "id": "51d8238c-5137-47a0-b5c0-1ba426346286",
   "metadata": {},
   "source": [
    "## Score Dataset"
   ]
  },
  {
   "cell_type": "code",
   "execution_count": 7,
   "id": "1797d8f1-2d9d-4711-9dc6-04b46830b27d",
   "metadata": {},
   "outputs": [
    {
     "name": "stdout",
     "output_type": "stream",
     "text": [
      "<class 'pandas.core.frame.DataFrame'>\n",
      "RangeIndex: 16719 entries, 0 to 16718\n",
      "Data columns (total 16 columns):\n",
      " #   Column           Non-Null Count  Dtype  \n",
      "---  ------           --------------  -----  \n",
      " 0   Name             16717 non-null  object \n",
      " 1   Platform         16719 non-null  object \n",
      " 2   Year_of_Release  16450 non-null  float64\n",
      " 3   Genre            16717 non-null  object \n",
      " 4   Publisher        16665 non-null  object \n",
      " 5   NA_Sales         16719 non-null  float64\n",
      " 6   EU_Sales         16719 non-null  float64\n",
      " 7   JP_Sales         16719 non-null  float64\n",
      " 8   Other_Sales      16719 non-null  float64\n",
      " 9   Global_Sales     16719 non-null  float64\n",
      " 10  Critic_Score     8137 non-null   float64\n",
      " 11  Critic_Count     8137 non-null   float64\n",
      " 12  User_Score       10015 non-null  object \n",
      " 13  User_Count       7590 non-null   float64\n",
      " 14  Developer        10096 non-null  object \n",
      " 15  Rating           9950 non-null   object \n",
      "dtypes: float64(9), object(7)\n",
      "memory usage: 2.0+ MB\n"
     ]
    }
   ],
   "source": [
    "scores.info()"
   ]
  },
  {
   "cell_type": "code",
   "execution_count": 8,
   "id": "e224b53d-7a15-4c3c-ab8c-d4513f9d4d70",
   "metadata": {},
   "outputs": [
    {
     "data": {
      "text/html": [
       "<div>\n",
       "<style scoped>\n",
       "    .dataframe tbody tr th:only-of-type {\n",
       "        vertical-align: middle;\n",
       "    }\n",
       "\n",
       "    .dataframe tbody tr th {\n",
       "        vertical-align: top;\n",
       "    }\n",
       "\n",
       "    .dataframe thead th {\n",
       "        text-align: right;\n",
       "    }\n",
       "</style>\n",
       "<table border=\"1\" class=\"dataframe\">\n",
       "  <thead>\n",
       "    <tr style=\"text-align: right;\">\n",
       "      <th></th>\n",
       "      <th>Name</th>\n",
       "      <th>Platform</th>\n",
       "      <th>Year_of_Release</th>\n",
       "      <th>Genre</th>\n",
       "      <th>Publisher</th>\n",
       "      <th>NA_Sales</th>\n",
       "      <th>EU_Sales</th>\n",
       "      <th>JP_Sales</th>\n",
       "      <th>Other_Sales</th>\n",
       "      <th>Global_Sales</th>\n",
       "      <th>Critic_Score</th>\n",
       "      <th>Critic_Count</th>\n",
       "      <th>User_Score</th>\n",
       "      <th>User_Count</th>\n",
       "      <th>Developer</th>\n",
       "      <th>Rating</th>\n",
       "    </tr>\n",
       "  </thead>\n",
       "  <tbody>\n",
       "    <tr>\n",
       "      <th>0</th>\n",
       "      <td>Wii Sports</td>\n",
       "      <td>Wii</td>\n",
       "      <td>2006.0</td>\n",
       "      <td>Sports</td>\n",
       "      <td>Nintendo</td>\n",
       "      <td>41.36</td>\n",
       "      <td>28.96</td>\n",
       "      <td>3.77</td>\n",
       "      <td>8.45</td>\n",
       "      <td>82.53</td>\n",
       "      <td>76.0</td>\n",
       "      <td>51.0</td>\n",
       "      <td>8</td>\n",
       "      <td>322.0</td>\n",
       "      <td>Nintendo</td>\n",
       "      <td>E</td>\n",
       "    </tr>\n",
       "    <tr>\n",
       "      <th>1</th>\n",
       "      <td>Super Mario Bros.</td>\n",
       "      <td>NES</td>\n",
       "      <td>1985.0</td>\n",
       "      <td>Platform</td>\n",
       "      <td>Nintendo</td>\n",
       "      <td>29.08</td>\n",
       "      <td>3.58</td>\n",
       "      <td>6.81</td>\n",
       "      <td>0.77</td>\n",
       "      <td>40.24</td>\n",
       "      <td>NaN</td>\n",
       "      <td>NaN</td>\n",
       "      <td>NaN</td>\n",
       "      <td>NaN</td>\n",
       "      <td>NaN</td>\n",
       "      <td>NaN</td>\n",
       "    </tr>\n",
       "    <tr>\n",
       "      <th>2</th>\n",
       "      <td>Mario Kart Wii</td>\n",
       "      <td>Wii</td>\n",
       "      <td>2008.0</td>\n",
       "      <td>Racing</td>\n",
       "      <td>Nintendo</td>\n",
       "      <td>15.68</td>\n",
       "      <td>12.76</td>\n",
       "      <td>3.79</td>\n",
       "      <td>3.29</td>\n",
       "      <td>35.52</td>\n",
       "      <td>82.0</td>\n",
       "      <td>73.0</td>\n",
       "      <td>8.3</td>\n",
       "      <td>709.0</td>\n",
       "      <td>Nintendo</td>\n",
       "      <td>E</td>\n",
       "    </tr>\n",
       "    <tr>\n",
       "      <th>3</th>\n",
       "      <td>Wii Sports Resort</td>\n",
       "      <td>Wii</td>\n",
       "      <td>2009.0</td>\n",
       "      <td>Sports</td>\n",
       "      <td>Nintendo</td>\n",
       "      <td>15.61</td>\n",
       "      <td>10.93</td>\n",
       "      <td>3.28</td>\n",
       "      <td>2.95</td>\n",
       "      <td>32.77</td>\n",
       "      <td>80.0</td>\n",
       "      <td>73.0</td>\n",
       "      <td>8</td>\n",
       "      <td>192.0</td>\n",
       "      <td>Nintendo</td>\n",
       "      <td>E</td>\n",
       "    </tr>\n",
       "    <tr>\n",
       "      <th>4</th>\n",
       "      <td>Pokemon Red/Pokemon Blue</td>\n",
       "      <td>GB</td>\n",
       "      <td>1996.0</td>\n",
       "      <td>Role-Playing</td>\n",
       "      <td>Nintendo</td>\n",
       "      <td>11.27</td>\n",
       "      <td>8.89</td>\n",
       "      <td>10.22</td>\n",
       "      <td>1.00</td>\n",
       "      <td>31.37</td>\n",
       "      <td>NaN</td>\n",
       "      <td>NaN</td>\n",
       "      <td>NaN</td>\n",
       "      <td>NaN</td>\n",
       "      <td>NaN</td>\n",
       "      <td>NaN</td>\n",
       "    </tr>\n",
       "  </tbody>\n",
       "</table>\n",
       "</div>"
      ],
      "text/plain": [
       "                       Name Platform  Year_of_Release         Genre Publisher  \\\n",
       "0                Wii Sports      Wii           2006.0        Sports  Nintendo   \n",
       "1         Super Mario Bros.      NES           1985.0      Platform  Nintendo   \n",
       "2            Mario Kart Wii      Wii           2008.0        Racing  Nintendo   \n",
       "3         Wii Sports Resort      Wii           2009.0        Sports  Nintendo   \n",
       "4  Pokemon Red/Pokemon Blue       GB           1996.0  Role-Playing  Nintendo   \n",
       "\n",
       "   NA_Sales  EU_Sales  JP_Sales  Other_Sales  Global_Sales  Critic_Score  \\\n",
       "0     41.36     28.96      3.77         8.45         82.53          76.0   \n",
       "1     29.08      3.58      6.81         0.77         40.24           NaN   \n",
       "2     15.68     12.76      3.79         3.29         35.52          82.0   \n",
       "3     15.61     10.93      3.28         2.95         32.77          80.0   \n",
       "4     11.27      8.89     10.22         1.00         31.37           NaN   \n",
       "\n",
       "   Critic_Count User_Score  User_Count Developer Rating  \n",
       "0          51.0          8       322.0  Nintendo      E  \n",
       "1           NaN        NaN         NaN       NaN    NaN  \n",
       "2          73.0        8.3       709.0  Nintendo      E  \n",
       "3          73.0          8       192.0  Nintendo      E  \n",
       "4           NaN        NaN         NaN       NaN    NaN  "
      ]
     },
     "execution_count": 8,
     "metadata": {},
     "output_type": "execute_result"
    }
   ],
   "source": [
    "scores.head()"
   ]
  },
  {
   "cell_type": "code",
   "execution_count": 9,
   "id": "1f817157-6b8e-41b1-813a-62f4439875d9",
   "metadata": {},
   "outputs": [
    {
     "data": {
      "text/plain": [
       "Name                  2\n",
       "Platform              0\n",
       "Year_of_Release     269\n",
       "Genre                 2\n",
       "Publisher            54\n",
       "NA_Sales              0\n",
       "EU_Sales              0\n",
       "JP_Sales              0\n",
       "Other_Sales           0\n",
       "Global_Sales          0\n",
       "Critic_Score       8582\n",
       "Critic_Count       8582\n",
       "User_Score         6704\n",
       "User_Count         9129\n",
       "Developer          6623\n",
       "Rating             6769\n",
       "dtype: int64"
      ]
     },
     "execution_count": 9,
     "metadata": {},
     "output_type": "execute_result"
    }
   ],
   "source": [
    "scores.isna().sum()"
   ]
  },
  {
   "cell_type": "markdown",
   "id": "ea9d3ec6-32e8-446d-bc3f-bd5e70a650e7",
   "metadata": {},
   "source": [
    "---"
   ]
  },
  {
   "cell_type": "markdown",
   "id": "d3e2c1eb-7f57-42d6-a4e2-370ea214cbf9",
   "metadata": {},
   "source": [
    "# Preprocessing"
   ]
  },
  {
   "cell_type": "markdown",
   "id": "8b5cc516-5281-4315-a348-7e51ce6b9555",
   "metadata": {},
   "source": [
    "## 데이터 타입 수정, 중복값 제거"
   ]
  },
  {
   "cell_type": "code",
   "execution_count": 10,
   "id": "c2296ca7-4668-4cf9-88e1-bc86fc8c7efa",
   "metadata": {},
   "outputs": [],
   "source": [
    "df_clean = df.drop_duplicates()"
   ]
  },
  {
   "cell_type": "code",
   "execution_count": 11,
   "id": "0bc38a78-7a91-45bd-a958-34c253a62ad7",
   "metadata": {},
   "outputs": [],
   "source": [
    "# change Sales dtypes, object to float\n",
    "def sale_convert(data, cols):\n",
    "    for col in cols:\n",
    "        temp = data[(data[col].str[-1]=='K') | (data[col].str[-1]=='M')]\n",
    "        data.loc[temp.index, col] = temp[col].map(lambda x: float(x[:-1])*0.001 if x[-1]=='K' else float(x[:-1]))\n",
    "        data[col] = data[col].astype(float)\n",
    "    return data\n",
    "\n",
    "sales = [col for col in df.columns if col.endswith('Sales')]\n",
    "df_clean = sale_convert(df.copy(), sales)"
   ]
  },
  {
   "cell_type": "code",
   "execution_count": 12,
   "id": "67d806c8-0f48-4846-aad7-6a3583a2774f",
   "metadata": {},
   "outputs": [],
   "source": [
    "df_clean['Total_Sales'] = df_clean[sales].sum(axis=1)"
   ]
  },
  {
   "cell_type": "code",
   "execution_count": 13,
   "id": "c6f4d891-f689-434d-bf3c-cf8620fddd0f",
   "metadata": {},
   "outputs": [
    {
     "data": {
      "text/html": [
       "<div>\n",
       "<style scoped>\n",
       "    .dataframe tbody tr th:only-of-type {\n",
       "        vertical-align: middle;\n",
       "    }\n",
       "\n",
       "    .dataframe tbody tr th {\n",
       "        vertical-align: top;\n",
       "    }\n",
       "\n",
       "    .dataframe thead th {\n",
       "        text-align: right;\n",
       "    }\n",
       "</style>\n",
       "<table border=\"1\" class=\"dataframe\">\n",
       "  <thead>\n",
       "    <tr style=\"text-align: right;\">\n",
       "      <th></th>\n",
       "      <th>Name</th>\n",
       "      <th>Platform</th>\n",
       "      <th>Year</th>\n",
       "      <th>Genre</th>\n",
       "      <th>Publisher</th>\n",
       "      <th>NA_Sales</th>\n",
       "      <th>EU_Sales</th>\n",
       "      <th>JP_Sales</th>\n",
       "      <th>Other_Sales</th>\n",
       "      <th>Total_Sales</th>\n",
       "    </tr>\n",
       "  </thead>\n",
       "  <tbody>\n",
       "    <tr>\n",
       "      <th>8056</th>\n",
       "      <td>Wii de Asobu: Metroid Prime</td>\n",
       "      <td>Wii</td>\n",
       "      <td>NaN</td>\n",
       "      <td>Shooter</td>\n",
       "      <td>Nintendo</td>\n",
       "      <td>0.0</td>\n",
       "      <td>0.0</td>\n",
       "      <td>0.02</td>\n",
       "      <td>0.0</td>\n",
       "      <td>0.02</td>\n",
       "    </tr>\n",
       "    <tr>\n",
       "      <th>9185</th>\n",
       "      <td>Wii de Asobu: Metroid Prime</td>\n",
       "      <td>Wii</td>\n",
       "      <td>NaN</td>\n",
       "      <td>Shooter</td>\n",
       "      <td>Nintendo</td>\n",
       "      <td>0.0</td>\n",
       "      <td>0.0</td>\n",
       "      <td>0.02</td>\n",
       "      <td>0.0</td>\n",
       "      <td>0.02</td>\n",
       "    </tr>\n",
       "  </tbody>\n",
       "</table>\n",
       "</div>"
      ],
      "text/plain": [
       "                             Name Platform  Year    Genre Publisher  NA_Sales  \\\n",
       "8056  Wii de Asobu: Metroid Prime      Wii   NaN  Shooter  Nintendo       0.0   \n",
       "9185  Wii de Asobu: Metroid Prime      Wii   NaN  Shooter  Nintendo       0.0   \n",
       "\n",
       "      EU_Sales  JP_Sales  Other_Sales  Total_Sales  \n",
       "8056       0.0      0.02          0.0         0.02  \n",
       "9185       0.0      0.02          0.0         0.02  "
      ]
     },
     "execution_count": 13,
     "metadata": {},
     "output_type": "execute_result"
    }
   ],
   "source": [
    "df_clean[df_clean.duplicated(keep=False)]"
   ]
  },
  {
   "cell_type": "code",
   "execution_count": 14,
   "id": "ed9ebe72-c20a-4496-a8ae-6ba1cb0ae19d",
   "metadata": {},
   "outputs": [],
   "source": [
    "df_clean = df_clean.drop_duplicates()"
   ]
  },
  {
   "cell_type": "code",
   "execution_count": 15,
   "id": "bfd8f3b3-8d32-415b-a310-371c4154b1d9",
   "metadata": {},
   "outputs": [
    {
     "data": {
      "text/html": [
       "<div>\n",
       "<style scoped>\n",
       "    .dataframe tbody tr th:only-of-type {\n",
       "        vertical-align: middle;\n",
       "    }\n",
       "\n",
       "    .dataframe tbody tr th {\n",
       "        vertical-align: top;\n",
       "    }\n",
       "\n",
       "    .dataframe thead th {\n",
       "        text-align: right;\n",
       "    }\n",
       "</style>\n",
       "<table border=\"1\" class=\"dataframe\">\n",
       "  <thead>\n",
       "    <tr style=\"text-align: right;\">\n",
       "      <th></th>\n",
       "      <th>Name</th>\n",
       "      <th>Platform</th>\n",
       "      <th>Year</th>\n",
       "      <th>Genre</th>\n",
       "      <th>Publisher</th>\n",
       "      <th>NA_Sales</th>\n",
       "      <th>EU_Sales</th>\n",
       "      <th>JP_Sales</th>\n",
       "      <th>Other_Sales</th>\n",
       "      <th>Total_Sales</th>\n",
       "    </tr>\n",
       "  </thead>\n",
       "  <tbody>\n",
       "    <tr>\n",
       "      <th>7347</th>\n",
       "      <td>Madden NFL 13</td>\n",
       "      <td>PS3</td>\n",
       "      <td>2012.0</td>\n",
       "      <td>Sports</td>\n",
       "      <td>Electronic Arts</td>\n",
       "      <td>2.11</td>\n",
       "      <td>0.23</td>\n",
       "      <td>0.00</td>\n",
       "      <td>0.22</td>\n",
       "      <td>2.56</td>\n",
       "    </tr>\n",
       "    <tr>\n",
       "      <th>8718</th>\n",
       "      <td>Madden NFL 13</td>\n",
       "      <td>PS3</td>\n",
       "      <td>2012.0</td>\n",
       "      <td>Sports</td>\n",
       "      <td>Electronic Arts</td>\n",
       "      <td>0.00</td>\n",
       "      <td>0.01</td>\n",
       "      <td>0.00</td>\n",
       "      <td>0.00</td>\n",
       "      <td>0.01</td>\n",
       "    </tr>\n",
       "    <tr>\n",
       "      <th>2674</th>\n",
       "      <td>Need for Speed: Most Wanted</td>\n",
       "      <td>PC</td>\n",
       "      <td>2005.0</td>\n",
       "      <td>Racing</td>\n",
       "      <td>Electronic Arts</td>\n",
       "      <td>0.02</td>\n",
       "      <td>0.23</td>\n",
       "      <td>0.00</td>\n",
       "      <td>0.05</td>\n",
       "      <td>0.30</td>\n",
       "    </tr>\n",
       "    <tr>\n",
       "      <th>13809</th>\n",
       "      <td>Need for Speed: Most Wanted</td>\n",
       "      <td>PC</td>\n",
       "      <td>2012.0</td>\n",
       "      <td>Racing</td>\n",
       "      <td>Electronic Arts</td>\n",
       "      <td>0.00</td>\n",
       "      <td>0.06</td>\n",
       "      <td>0.00</td>\n",
       "      <td>0.02</td>\n",
       "      <td>0.08</td>\n",
       "    </tr>\n",
       "    <tr>\n",
       "      <th>1319</th>\n",
       "      <td>Need for Speed: Most Wanted</td>\n",
       "      <td>X360</td>\n",
       "      <td>2012.0</td>\n",
       "      <td>Racing</td>\n",
       "      <td>Electronic Arts</td>\n",
       "      <td>0.62</td>\n",
       "      <td>0.80</td>\n",
       "      <td>0.01</td>\n",
       "      <td>0.15</td>\n",
       "      <td>1.58</td>\n",
       "    </tr>\n",
       "    <tr>\n",
       "      <th>12530</th>\n",
       "      <td>Need for Speed: Most Wanted</td>\n",
       "      <td>X360</td>\n",
       "      <td>2005.0</td>\n",
       "      <td>Racing</td>\n",
       "      <td>Electronic Arts</td>\n",
       "      <td>1.00</td>\n",
       "      <td>0.17</td>\n",
       "      <td>0.02</td>\n",
       "      <td>0.10</td>\n",
       "      <td>1.29</td>\n",
       "    </tr>\n",
       "    <tr>\n",
       "      <th>8652</th>\n",
       "      <td>Sonic the Hedgehog</td>\n",
       "      <td>PS3</td>\n",
       "      <td>NaN</td>\n",
       "      <td>Platform</td>\n",
       "      <td>NaN</td>\n",
       "      <td>0.00</td>\n",
       "      <td>0.48</td>\n",
       "      <td>0.00</td>\n",
       "      <td>0.00</td>\n",
       "      <td>0.48</td>\n",
       "    </tr>\n",
       "    <tr>\n",
       "      <th>15706</th>\n",
       "      <td>Sonic the Hedgehog</td>\n",
       "      <td>PS3</td>\n",
       "      <td>2006.0</td>\n",
       "      <td>Platform</td>\n",
       "      <td>Sega</td>\n",
       "      <td>0.41</td>\n",
       "      <td>0.07</td>\n",
       "      <td>0.04</td>\n",
       "      <td>0.66</td>\n",
       "      <td>1.18</td>\n",
       "    </tr>\n",
       "  </tbody>\n",
       "</table>\n",
       "</div>"
      ],
      "text/plain": [
       "                              Name Platform    Year     Genre  \\\n",
       "7347                 Madden NFL 13      PS3  2012.0    Sports   \n",
       "8718                 Madden NFL 13      PS3  2012.0    Sports   \n",
       "2674   Need for Speed: Most Wanted       PC  2005.0    Racing   \n",
       "13809  Need for Speed: Most Wanted       PC  2012.0    Racing   \n",
       "1319   Need for Speed: Most Wanted     X360  2012.0    Racing   \n",
       "12530  Need for Speed: Most Wanted     X360  2005.0    Racing   \n",
       "8652            Sonic the Hedgehog      PS3     NaN  Platform   \n",
       "15706           Sonic the Hedgehog      PS3  2006.0  Platform   \n",
       "\n",
       "             Publisher  NA_Sales  EU_Sales  JP_Sales  Other_Sales  Total_Sales  \n",
       "7347   Electronic Arts      2.11      0.23      0.00         0.22         2.56  \n",
       "8718   Electronic Arts      0.00      0.01      0.00         0.00         0.01  \n",
       "2674   Electronic Arts      0.02      0.23      0.00         0.05         0.30  \n",
       "13809  Electronic Arts      0.00      0.06      0.00         0.02         0.08  \n",
       "1319   Electronic Arts      0.62      0.80      0.01         0.15         1.58  \n",
       "12530  Electronic Arts      1.00      0.17      0.02         0.10         1.29  \n",
       "8652               NaN      0.00      0.48      0.00         0.00         0.48  \n",
       "15706             Sega      0.41      0.07      0.04         0.66         1.18  "
      ]
     },
     "execution_count": 15,
     "metadata": {},
     "output_type": "execute_result"
    }
   ],
   "source": [
    "df_clean[df_clean.duplicated(subset=['Name', 'Platform'], keep=False)].sort_values(['Name', 'Platform'])"
   ]
  },
  {
   "cell_type": "markdown",
   "id": "05231252-835e-48e9-a64f-70e4ee7d9259",
   "metadata": {},
   "source": [
    "Madden NFL 13랑 Sonic the Hedgehog는 같은 플랫폼인데도 따로 있으니 합쳐준다"
   ]
  },
  {
   "cell_type": "code",
   "execution_count": 16,
   "id": "3364377d-60c9-4cd8-957b-374870026a38",
   "metadata": {},
   "outputs": [],
   "source": [
    "temp_Madden = df_clean.query(\"Name=='Madden NFL 13' and Platform=='PS3'\")[sales+['Total_Sales']].sum()\n",
    "temp_Sonic = df_clean.query(\"Name=='Sonic the Hedgehog' and Platform=='PS3'\")[sales+['Total_Sales']].sum()"
   ]
  },
  {
   "cell_type": "code",
   "execution_count": 17,
   "id": "fba3fdc8-7030-415e-a80b-84cc0d8777df",
   "metadata": {},
   "outputs": [],
   "source": [
    "df_clean = df_clean.drop([8718, 15706])"
   ]
  },
  {
   "cell_type": "code",
   "execution_count": 18,
   "id": "cc4578f5-8c8d-4266-b6d4-9df45c0bc6bc",
   "metadata": {},
   "outputs": [],
   "source": [
    "df_clean.loc[7347, sales+['Total_Sales']] = temp_Madden\n",
    "df_clean.loc[8652, sales+['Total_Sales']] = temp_Sonic"
   ]
  },
  {
   "cell_type": "code",
   "execution_count": 19,
   "id": "bf92283f-f153-4ec6-b9e0-d3dadd477b14",
   "metadata": {},
   "outputs": [
    {
     "data": {
      "text/html": [
       "<div>\n",
       "<style scoped>\n",
       "    .dataframe tbody tr th:only-of-type {\n",
       "        vertical-align: middle;\n",
       "    }\n",
       "\n",
       "    .dataframe tbody tr th {\n",
       "        vertical-align: top;\n",
       "    }\n",
       "\n",
       "    .dataframe thead th {\n",
       "        text-align: right;\n",
       "    }\n",
       "</style>\n",
       "<table border=\"1\" class=\"dataframe\">\n",
       "  <thead>\n",
       "    <tr style=\"text-align: right;\">\n",
       "      <th></th>\n",
       "      <th>Name</th>\n",
       "      <th>Platform</th>\n",
       "      <th>Year</th>\n",
       "      <th>Genre</th>\n",
       "      <th>Publisher</th>\n",
       "      <th>NA_Sales</th>\n",
       "      <th>EU_Sales</th>\n",
       "      <th>JP_Sales</th>\n",
       "      <th>Other_Sales</th>\n",
       "      <th>Total_Sales</th>\n",
       "    </tr>\n",
       "  </thead>\n",
       "  <tbody>\n",
       "    <tr>\n",
       "      <th>2674</th>\n",
       "      <td>Need for Speed: Most Wanted</td>\n",
       "      <td>PC</td>\n",
       "      <td>2005.0</td>\n",
       "      <td>Racing</td>\n",
       "      <td>Electronic Arts</td>\n",
       "      <td>0.02</td>\n",
       "      <td>0.23</td>\n",
       "      <td>0.00</td>\n",
       "      <td>0.05</td>\n",
       "      <td>0.30</td>\n",
       "    </tr>\n",
       "    <tr>\n",
       "      <th>13809</th>\n",
       "      <td>Need for Speed: Most Wanted</td>\n",
       "      <td>PC</td>\n",
       "      <td>2012.0</td>\n",
       "      <td>Racing</td>\n",
       "      <td>Electronic Arts</td>\n",
       "      <td>0.00</td>\n",
       "      <td>0.06</td>\n",
       "      <td>0.00</td>\n",
       "      <td>0.02</td>\n",
       "      <td>0.08</td>\n",
       "    </tr>\n",
       "    <tr>\n",
       "      <th>1319</th>\n",
       "      <td>Need for Speed: Most Wanted</td>\n",
       "      <td>X360</td>\n",
       "      <td>2012.0</td>\n",
       "      <td>Racing</td>\n",
       "      <td>Electronic Arts</td>\n",
       "      <td>0.62</td>\n",
       "      <td>0.80</td>\n",
       "      <td>0.01</td>\n",
       "      <td>0.15</td>\n",
       "      <td>1.58</td>\n",
       "    </tr>\n",
       "    <tr>\n",
       "      <th>12530</th>\n",
       "      <td>Need for Speed: Most Wanted</td>\n",
       "      <td>X360</td>\n",
       "      <td>2005.0</td>\n",
       "      <td>Racing</td>\n",
       "      <td>Electronic Arts</td>\n",
       "      <td>1.00</td>\n",
       "      <td>0.17</td>\n",
       "      <td>0.02</td>\n",
       "      <td>0.10</td>\n",
       "      <td>1.29</td>\n",
       "    </tr>\n",
       "  </tbody>\n",
       "</table>\n",
       "</div>"
      ],
      "text/plain": [
       "                              Name Platform    Year   Genre        Publisher  \\\n",
       "2674   Need for Speed: Most Wanted       PC  2005.0  Racing  Electronic Arts   \n",
       "13809  Need for Speed: Most Wanted       PC  2012.0  Racing  Electronic Arts   \n",
       "1319   Need for Speed: Most Wanted     X360  2012.0  Racing  Electronic Arts   \n",
       "12530  Need for Speed: Most Wanted     X360  2005.0  Racing  Electronic Arts   \n",
       "\n",
       "       NA_Sales  EU_Sales  JP_Sales  Other_Sales  Total_Sales  \n",
       "2674       0.02      0.23      0.00         0.05         0.30  \n",
       "13809      0.00      0.06      0.00         0.02         0.08  \n",
       "1319       0.62      0.80      0.01         0.15         1.58  \n",
       "12530      1.00      0.17      0.02         0.10         1.29  "
      ]
     },
     "execution_count": 19,
     "metadata": {},
     "output_type": "execute_result"
    }
   ],
   "source": [
    "df_clean[df_clean.duplicated(subset=['Name', 'Platform'], keep=False)].sort_values(['Name', 'Platform'])"
   ]
  },
  {
   "cell_type": "code",
   "execution_count": 20,
   "id": "7abb038a-39f2-4b95-af42-edd00ff733f9",
   "metadata": {},
   "outputs": [],
   "source": [
    "# score에 있는 문자열 데이터 수정\n",
    "scores['User_Score'] = scores['User_Score'].replace({'tbd': np.nan}).astype(float)"
   ]
  },
  {
   "cell_type": "markdown",
   "id": "990209c7-2b66-46f0-837c-b06066e7fb68",
   "metadata": {},
   "source": [
    "## 연도 결측치, 오류 처리"
   ]
  },
  {
   "cell_type": "markdown",
   "id": "8fa662d9-f4f9-46b2-ba53-c667a8548a6c",
   "metadata": {},
   "source": [
    "연도가 두 자리인 경우 4자리로 맞춰준다"
   ]
  },
  {
   "cell_type": "code",
   "execution_count": 21,
   "id": "54d2e74c-0c77-457f-b7f0-3fa928a00bcb",
   "metadata": {},
   "outputs": [],
   "source": [
    "df_clean.loc[df_clean['Year']<1900, 'Year'] = (df_clean.loc[df_clean['Year']<1900, 'Year']\n",
    "                                               .map(lambda x: x+2000 if x <= 22 else x+1900))"
   ]
  },
  {
   "cell_type": "markdown",
   "id": "97300d62-ace7-4f6e-bc49-afd332f098f0",
   "metadata": {},
   "source": [
    "전체 출고량을 기준으로 높은 출고량의 경우에는 연도를 채워주고 그렇지 않은 게임은 삭제한다."
   ]
  },
  {
   "cell_type": "code",
   "execution_count": 22,
   "id": "6b0ac3e4-0785-4df4-891e-3b1c495169d3",
   "metadata": {},
   "outputs": [],
   "source": [
    "df_clean = df_clean.merge(scores, how='left')"
   ]
  },
  {
   "cell_type": "code",
   "execution_count": 23,
   "id": "079e2508-b864-43d6-bf40-37d1d4e0505a",
   "metadata": {},
   "outputs": [],
   "source": [
    "df_clean = df_clean.drop(['Global_Sales', 'Year_of_Release', 'Critic_Count',\n",
    "                          'User_Count', 'Developer', 'Rating'], axis=1)"
   ]
  },
  {
   "cell_type": "code",
   "execution_count": 24,
   "id": "f61326c8-f467-4b59-933c-a372edbb4818",
   "metadata": {},
   "outputs": [
    {
     "data": {
      "text/plain": [
       "(0.17, 0.5372600180777343)"
      ]
     },
     "execution_count": 24,
     "metadata": {},
     "output_type": "execute_result"
    }
   ],
   "source": [
    "df_clean['Total_Sales'].median(), df_clean['Total_Sales'].mean()"
   ]
  },
  {
   "cell_type": "markdown",
   "id": "ff823ecb-357b-43ad-8963-979a8b0d6a21",
   "metadata": {},
   "source": [
    "총 판매량의 중앙값이 0.17,<br>\n",
    "평균은 0.537 <br>\n",
    "\n",
    "데이터가 판매량이 낮은 쪽으로 편향되어있어 중앙값이 더 정확하지만 적게 많이 팔린 게임보다는 많이 팔린 게임이 트랜드를 더 잘 반영한다고 가정함"
   ]
  },
  {
   "cell_type": "code",
   "execution_count": 25,
   "id": "75409704-10fa-4ca0-af9f-fa20c8b6866b",
   "metadata": {},
   "outputs": [],
   "source": [
    "# cond = ((df_clean['Year'].isna()) & ((df_clean['Total_Sales']>0.17) | ((df_clean['Critic_Score']>=78) &\n",
    "#         (df_clean['User_Score']>8.3))))\n",
    "cond = (df_clean['Year'].isna()) & (df_clean['Total_Sales']>0.537)"
   ]
  },
  {
   "cell_type": "markdown",
   "id": "fcf07296-c32e-4bc3-ad41-197a2685bdce",
   "metadata": {},
   "source": [
    "~~중복된 이름중에 연도 없는건 있는걸로 대체~~ 같은 이름은 다른 게임도 있어서 안됨\n",
    "\n",
    "연도 아에 없는거 채워야됨\n",
    "\n",
    "전체 다 하면 오래걸리니까 ~~전체 기간동안 연도별 중앙값의~~ 평균보다 높은 값만 직접 찾아서 써줌\n",
    "('Total_Sales > 0.537) <br>\n",
    "같은 게임은 다른 플랫폼에서 출시되서 연도 다른건 앞선 연도 사용"
   ]
  },
  {
   "cell_type": "code",
   "execution_count": 26,
   "id": "e5a8bcbb-78d5-4389-9697-69a6edf6d3c0",
   "metadata": {},
   "outputs": [],
   "source": [
    "missing_year_names = set(df_clean[cond]['Name'])"
   ]
  },
  {
   "cell_type": "code",
   "execution_count": 27,
   "id": "69576454-4d33-48df-81c8-29c379589a49",
   "metadata": {},
   "outputs": [],
   "source": [
    "missing_year = [2008, 1978, 1977, 2006, 2010, 1977, 2004, 1997, 2003, 2001,\n",
    "                2002, 2008, 2011, 2008, 1999, 2002, 2005, 2006, 2010, 2001,\n",
    "                2003, 2002, 2006, 2002, 2002, 2002, 2008, 2008, 2007, 2008,\n",
    "                2006, 1978, 2002, 2011, 2005, 2007, 2011, 1998, 2005, 2003,\n",
    "                2011, 2005]"
   ]
  },
  {
   "cell_type": "code",
   "execution_count": 28,
   "id": "b4446f88-4552-416f-a70c-6dd5f1b87d9e",
   "metadata": {},
   "outputs": [],
   "source": [
    "years_fill = dict(zip(sorted(missing_year_names), missing_year))"
   ]
  },
  {
   "cell_type": "code",
   "execution_count": 29,
   "id": "5ccd8065-1a26-4e5d-bf24-ff7ca2b797d5",
   "metadata": {},
   "outputs": [],
   "source": [
    "df_clean['Year'] = df_clean['Year'].fillna(df_clean['Name'].map(years_fill))"
   ]
  },
  {
   "cell_type": "markdown",
   "id": "fd9ff2da-d0f0-404f-81f4-10159d40f327",
   "metadata": {},
   "source": [
    "적은 출고량의 데이터 삭제"
   ]
  },
  {
   "cell_type": "code",
   "execution_count": 30,
   "id": "3d149e56-5797-423e-8b79-fbcdfb321919",
   "metadata": {},
   "outputs": [],
   "source": [
    "df_clean = df_clean.dropna(subset='Year')"
   ]
  },
  {
   "cell_type": "code",
   "execution_count": 31,
   "id": "57bb6081-0678-4c03-916c-92ce95bed0d3",
   "metadata": {},
   "outputs": [],
   "source": [
    "df_clean['Year'] = df_clean['Year'].astype(int)"
   ]
  },
  {
   "cell_type": "markdown",
   "id": "4fdf2bdd-3c7a-419f-8e63-21520d0bb1a3",
   "metadata": {},
   "source": [
    "2016년까지 출시된 게임 목록인데 그 이후에 출시된 게임이 있다.\n",
    "출시 일자 확인 후 수정해준다."
   ]
  },
  {
   "cell_type": "code",
   "execution_count": 32,
   "id": "bb802653-f18b-4b8d-9265-26a99ee1dfd7",
   "metadata": {},
   "outputs": [
    {
     "data": {
      "text/html": [
       "<div>\n",
       "<style scoped>\n",
       "    .dataframe tbody tr th:only-of-type {\n",
       "        vertical-align: middle;\n",
       "    }\n",
       "\n",
       "    .dataframe tbody tr th {\n",
       "        vertical-align: top;\n",
       "    }\n",
       "\n",
       "    .dataframe thead th {\n",
       "        text-align: right;\n",
       "    }\n",
       "</style>\n",
       "<table border=\"1\" class=\"dataframe\">\n",
       "  <thead>\n",
       "    <tr style=\"text-align: right;\">\n",
       "      <th></th>\n",
       "      <th>Name</th>\n",
       "      <th>Platform</th>\n",
       "      <th>Year</th>\n",
       "      <th>Genre</th>\n",
       "      <th>Publisher</th>\n",
       "      <th>NA_Sales</th>\n",
       "      <th>EU_Sales</th>\n",
       "      <th>JP_Sales</th>\n",
       "      <th>Other_Sales</th>\n",
       "      <th>Total_Sales</th>\n",
       "      <th>Critic_Score</th>\n",
       "      <th>User_Score</th>\n",
       "    </tr>\n",
       "  </thead>\n",
       "  <tbody>\n",
       "    <tr>\n",
       "      <th>5310</th>\n",
       "      <td>Brothers Conflict: Precious Baby</td>\n",
       "      <td>PSV</td>\n",
       "      <td>2017</td>\n",
       "      <td>Action</td>\n",
       "      <td>Idea Factory</td>\n",
       "      <td>0.00</td>\n",
       "      <td>0.0</td>\n",
       "      <td>0.01</td>\n",
       "      <td>0.00</td>\n",
       "      <td>0.01</td>\n",
       "      <td>NaN</td>\n",
       "      <td>NaN</td>\n",
       "    </tr>\n",
       "    <tr>\n",
       "      <th>6906</th>\n",
       "      <td>Imagine: Makeup Artist</td>\n",
       "      <td>DS</td>\n",
       "      <td>2020</td>\n",
       "      <td>Simulation</td>\n",
       "      <td>Ubisoft</td>\n",
       "      <td>0.27</td>\n",
       "      <td>0.0</td>\n",
       "      <td>0.00</td>\n",
       "      <td>0.02</td>\n",
       "      <td>0.29</td>\n",
       "      <td>NaN</td>\n",
       "      <td>NaN</td>\n",
       "    </tr>\n",
       "    <tr>\n",
       "      <th>10105</th>\n",
       "      <td>Phantasy Star Online 2 Episode 4: Deluxe Package</td>\n",
       "      <td>PS4</td>\n",
       "      <td>2017</td>\n",
       "      <td>Role-Playing</td>\n",
       "      <td>Sega</td>\n",
       "      <td>0.00</td>\n",
       "      <td>0.0</td>\n",
       "      <td>0.03</td>\n",
       "      <td>0.00</td>\n",
       "      <td>0.03</td>\n",
       "      <td>NaN</td>\n",
       "      <td>NaN</td>\n",
       "    </tr>\n",
       "    <tr>\n",
       "      <th>15231</th>\n",
       "      <td>Phantasy Star Online 2 Episode 4: Deluxe Package</td>\n",
       "      <td>PSV</td>\n",
       "      <td>2017</td>\n",
       "      <td>Role-Playing</td>\n",
       "      <td>Sega</td>\n",
       "      <td>0.00</td>\n",
       "      <td>0.0</td>\n",
       "      <td>0.01</td>\n",
       "      <td>0.00</td>\n",
       "      <td>0.01</td>\n",
       "      <td>NaN</td>\n",
       "      <td>NaN</td>\n",
       "    </tr>\n",
       "  </tbody>\n",
       "</table>\n",
       "</div>"
      ],
      "text/plain": [
       "                                                   Name Platform  Year  \\\n",
       "5310                   Brothers Conflict: Precious Baby      PSV  2017   \n",
       "6906                             Imagine: Makeup Artist       DS  2020   \n",
       "10105  Phantasy Star Online 2 Episode 4: Deluxe Package      PS4  2017   \n",
       "15231  Phantasy Star Online 2 Episode 4: Deluxe Package      PSV  2017   \n",
       "\n",
       "              Genre     Publisher  NA_Sales  EU_Sales  JP_Sales  Other_Sales  \\\n",
       "5310         Action  Idea Factory      0.00       0.0      0.01         0.00   \n",
       "6906     Simulation       Ubisoft      0.27       0.0      0.00         0.02   \n",
       "10105  Role-Playing          Sega      0.00       0.0      0.03         0.00   \n",
       "15231  Role-Playing          Sega      0.00       0.0      0.01         0.00   \n",
       "\n",
       "       Total_Sales  Critic_Score  User_Score  \n",
       "5310          0.01           NaN         NaN  \n",
       "6906          0.29           NaN         NaN  \n",
       "10105         0.03           NaN         NaN  \n",
       "15231         0.01           NaN         NaN  "
      ]
     },
     "execution_count": 32,
     "metadata": {},
     "output_type": "execute_result"
    }
   ],
   "source": [
    "df_clean[df_clean['Year']>2016]"
   ]
  },
  {
   "cell_type": "code",
   "execution_count": 33,
   "id": "75eb68e3-8f62-415f-a4cd-c9b7cdb91d27",
   "metadata": {},
   "outputs": [],
   "source": [
    "df_clean.loc[df_clean['Name']=='Brothers Conflict: Precious Baby', 'Year'] = 2016\n",
    "df_clean.loc[df_clean['Name']=='Imagine: Makeup Artist', 'Year'] = 2009\n",
    "df_clean.loc[df_clean['Name']=='Phantasy Star Online 2 Episode 4: Deluxe Package', 'Year'] = 2016"
   ]
  },
  {
   "cell_type": "markdown",
   "id": "b1e6d5a9-e795-4465-a4c0-76410f5f2a5b",
   "metadata": {},
   "source": [
    "## 장르 결측치 처리"
   ]
  },
  {
   "cell_type": "markdown",
   "id": "a677ff97-4a53-4381-a126-a9cb7773bb42",
   "metadata": {},
   "source": [
    "장르는 빠르게 추가하기 위해 [외부 데이터셋](https://www.kaggle.com/datasets/gregorut/videogamesales)에 있는 장르 가져왔음 "
   ]
  },
  {
   "cell_type": "code",
   "execution_count": 34,
   "id": "2ac47cf6-0c84-4280-8342-9a008f4a1083",
   "metadata": {},
   "outputs": [],
   "source": [
    "vgsales = pd.read_csv('vgsales.csv')"
   ]
  },
  {
   "cell_type": "code",
   "execution_count": 35,
   "id": "eefa5025-bba2-4733-b6bc-a8e010a557e5",
   "metadata": {},
   "outputs": [],
   "source": [
    "genres = vgsales[['Name', 'Genre']].drop_duplicates()\n",
    "genres = {k: v for (k,v) in genres.values}"
   ]
  },
  {
   "cell_type": "code",
   "execution_count": 36,
   "id": "1f728d67-ca13-4631-9135-746899916fed",
   "metadata": {},
   "outputs": [],
   "source": [
    "df_clean['Genre'] = df_clean['Genre'].fillna(df_clean['Name'].map(genres))"
   ]
  },
  {
   "cell_type": "code",
   "execution_count": 37,
   "id": "c974422c-e926-4e4c-b1f8-a55b9c981b8e",
   "metadata": {},
   "outputs": [
    {
     "data": {
      "text/plain": [
       "Name                0\n",
       "Platform            0\n",
       "Year                0\n",
       "Genre               0\n",
       "Publisher          39\n",
       "NA_Sales            0\n",
       "EU_Sales            0\n",
       "JP_Sales            0\n",
       "Other_Sales         0\n",
       "Total_Sales         0\n",
       "Critic_Score    11022\n",
       "User_Score      11657\n",
       "dtype: int64"
      ]
     },
     "execution_count": 37,
     "metadata": {},
     "output_type": "execute_result"
    }
   ],
   "source": [
    "df_clean.isna().sum()"
   ]
  },
  {
   "cell_type": "markdown",
   "id": "b388955d-e7b2-4fe5-902a-d0787f9df558",
   "metadata": {},
   "source": [
    "## 퍼블리셔 결측치 처리"
   ]
  },
  {
   "cell_type": "code",
   "execution_count": 38,
   "id": "a21f9544-d151-49d4-8e00-2832eab995c5",
   "metadata": {},
   "outputs": [],
   "source": [
    "cond = (df_clean['Publisher'].isna()) & (df_clean['Total_Sales']>0.537)"
   ]
  },
  {
   "cell_type": "code",
   "execution_count": 39,
   "id": "0798c241-7f73-4c86-bc3e-6eaf8441b0f3",
   "metadata": {},
   "outputs": [],
   "source": [
    "missing_publisher_names = set(df_clean[cond]['Name'])"
   ]
  },
  {
   "cell_type": "code",
   "execution_count": 40,
   "id": "96fc0805-920c-42c5-9492-377cff163828",
   "metadata": {},
   "outputs": [],
   "source": [
    "missing_publisher = ['Sony Computer Entertainment', 'Majesco', 'Majesco', 'Sega',\n",
    "                     'Majesco', 'EA Sports', 'THQ']"
   ]
  },
  {
   "cell_type": "code",
   "execution_count": 41,
   "id": "a55501a7-39cb-430a-9553-8cdf1bb55466",
   "metadata": {},
   "outputs": [],
   "source": [
    "publisher_fill = dict(zip(sorted(missing_publisher_names), missing_year))"
   ]
  },
  {
   "cell_type": "code",
   "execution_count": 42,
   "id": "c7b8667b-b4f9-4953-bba9-5384d8d699af",
   "metadata": {},
   "outputs": [],
   "source": [
    "df_clean['Publisher'] = df_clean['Publisher'].fillna(df_clean['Name'].map(publisher_fill))"
   ]
  },
  {
   "cell_type": "markdown",
   "id": "e71a2a51-1d6d-4050-a2d1-99e7f18032a6",
   "metadata": {},
   "source": [
    "적은 판매량의 데이터 삭제"
   ]
  },
  {
   "cell_type": "code",
   "execution_count": 43,
   "id": "88737d17-3635-42a9-b3db-e21f1efdd808",
   "metadata": {},
   "outputs": [],
   "source": [
    "df_clean = df_clean.dropna(subset='Publisher')"
   ]
  },
  {
   "cell_type": "code",
   "execution_count": 44,
   "id": "2836d4fc-1292-4cda-a518-695a837c62d9",
   "metadata": {},
   "outputs": [
    {
     "data": {
      "text/plain": [
       "(16350, 12)"
      ]
     },
     "execution_count": 44,
     "metadata": {},
     "output_type": "execute_result"
    }
   ],
   "source": [
    "df_clean.shape"
   ]
  },
  {
   "cell_type": "code",
   "execution_count": 45,
   "id": "9b614a4f-02fb-40aa-a07f-b1cce876b165",
   "metadata": {},
   "outputs": [
    {
     "data": {
      "text/plain": [
       "Name                0\n",
       "Platform            0\n",
       "Year                0\n",
       "Genre               0\n",
       "Publisher           0\n",
       "NA_Sales            0\n",
       "EU_Sales            0\n",
       "JP_Sales            0\n",
       "Other_Sales         0\n",
       "Total_Sales         0\n",
       "Critic_Score    10991\n",
       "User_Score      11627\n",
       "dtype: int64"
      ]
     },
     "execution_count": 45,
     "metadata": {},
     "output_type": "execute_result"
    }
   ],
   "source": [
    "df_clean.isna().sum()"
   ]
  },
  {
   "cell_type": "code",
   "execution_count": 46,
   "id": "c2780a21-b605-48a3-a151-ca6c271ffba7",
   "metadata": {},
   "outputs": [],
   "source": [
    "df_clean.to_csv('vgames2_clean.csv', index=False)"
   ]
  }
 ],
 "metadata": {
  "kernelspec": {
   "display_name": "DA",
   "language": "python",
   "name": "da"
  },
  "language_info": {
   "codemirror_mode": {
    "name": "ipython",
    "version": 3
   },
   "file_extension": ".py",
   "mimetype": "text/x-python",
   "name": "python",
   "nbconvert_exporter": "python",
   "pygments_lexer": "ipython3",
   "version": "3.8.13"
  },
  "widgets": {
   "application/vnd.jupyter.widget-state+json": {
    "state": {},
    "version_major": 2,
    "version_minor": 0
   }
  }
 },
 "nbformat": 4,
 "nbformat_minor": 5
}
